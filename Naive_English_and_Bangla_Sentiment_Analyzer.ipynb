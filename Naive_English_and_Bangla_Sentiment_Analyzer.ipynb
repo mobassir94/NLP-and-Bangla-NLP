{
  "nbformat": 4,
  "nbformat_minor": 0,
  "metadata": {
    "colab": {
      "name": "Naive  English and Bangla Sentiment Analyzer.ipynb",
      "provenance": [],
      "collapsed_sections": []
    },
    "kernelspec": {
      "name": "python3",
      "display_name": "Python 3"
    }
  },
  "cells": [
    {
      "cell_type": "code",
      "metadata": {
        "id": "QnV8FNh7HtIU",
        "colab_type": "code",
        "colab": {
          "base_uri": "https://localhost:8080/",
          "height": 683
        },
        "outputId": "86d5fc7d-8b50-496b-ada5-88f8b82323d8"
      },
      "source": [
        "!pip install googletrans\n",
        "!pip install vaderSentiment\n",
        "!pip install transformers"
      ],
      "execution_count": null,
      "outputs": [
        {
          "output_type": "stream",
          "text": [
            "Requirement already satisfied: googletrans in /usr/local/lib/python3.6/dist-packages (3.0.0)\n",
            "Requirement already satisfied: httpx==0.13.3 in /usr/local/lib/python3.6/dist-packages (from googletrans) (0.13.3)\n",
            "Requirement already satisfied: rfc3986<2,>=1.3 in /usr/local/lib/python3.6/dist-packages (from httpx==0.13.3->googletrans) (1.4.0)\n",
            "Requirement already satisfied: chardet==3.* in /usr/local/lib/python3.6/dist-packages (from httpx==0.13.3->googletrans) (3.0.4)\n",
            "Requirement already satisfied: certifi in /usr/local/lib/python3.6/dist-packages (from httpx==0.13.3->googletrans) (2020.6.20)\n",
            "Requirement already satisfied: httpcore==0.9.* in /usr/local/lib/python3.6/dist-packages (from httpx==0.13.3->googletrans) (0.9.1)\n",
            "Requirement already satisfied: idna==2.* in /usr/local/lib/python3.6/dist-packages (from httpx==0.13.3->googletrans) (2.10)\n",
            "Requirement already satisfied: sniffio in /usr/local/lib/python3.6/dist-packages (from httpx==0.13.3->googletrans) (1.1.0)\n",
            "Requirement already satisfied: hstspreload in /usr/local/lib/python3.6/dist-packages (from httpx==0.13.3->googletrans) (2020.8.25)\n",
            "Requirement already satisfied: h11<0.10,>=0.8 in /usr/local/lib/python3.6/dist-packages (from httpcore==0.9.*->httpx==0.13.3->googletrans) (0.9.0)\n",
            "Requirement already satisfied: h2==3.* in /usr/local/lib/python3.6/dist-packages (from httpcore==0.9.*->httpx==0.13.3->googletrans) (3.2.0)\n",
            "Requirement already satisfied: contextvars>=2.1; python_version < \"3.7\" in /usr/local/lib/python3.6/dist-packages (from sniffio->httpx==0.13.3->googletrans) (2.4)\n",
            "Requirement already satisfied: hyperframe<6,>=5.2.0 in /usr/local/lib/python3.6/dist-packages (from h2==3.*->httpcore==0.9.*->httpx==0.13.3->googletrans) (5.2.0)\n",
            "Requirement already satisfied: hpack<4,>=3.0 in /usr/local/lib/python3.6/dist-packages (from h2==3.*->httpcore==0.9.*->httpx==0.13.3->googletrans) (3.0.0)\n",
            "Requirement already satisfied: immutables>=0.9 in /usr/local/lib/python3.6/dist-packages (from contextvars>=2.1; python_version < \"3.7\"->sniffio->httpx==0.13.3->googletrans) (0.14)\n",
            "Requirement already satisfied: vaderSentiment in /usr/local/lib/python3.6/dist-packages (3.3.2)\n",
            "Requirement already satisfied: requests in /usr/local/lib/python3.6/dist-packages (from vaderSentiment) (2.23.0)\n",
            "Requirement already satisfied: idna<3,>=2.5 in /usr/local/lib/python3.6/dist-packages (from requests->vaderSentiment) (2.10)\n",
            "Requirement already satisfied: chardet<4,>=3.0.2 in /usr/local/lib/python3.6/dist-packages (from requests->vaderSentiment) (3.0.4)\n",
            "Requirement already satisfied: certifi>=2017.4.17 in /usr/local/lib/python3.6/dist-packages (from requests->vaderSentiment) (2020.6.20)\n",
            "Requirement already satisfied: urllib3!=1.25.0,!=1.25.1,<1.26,>=1.21.1 in /usr/local/lib/python3.6/dist-packages (from requests->vaderSentiment) (1.24.3)\n",
            "Requirement already satisfied: transformers in /usr/local/lib/python3.6/dist-packages (3.0.2)\n",
            "Requirement already satisfied: regex!=2019.12.17 in /usr/local/lib/python3.6/dist-packages (from transformers) (2019.12.20)\n",
            "Requirement already satisfied: tokenizers==0.8.1.rc1 in /usr/local/lib/python3.6/dist-packages (from transformers) (0.8.1rc1)\n",
            "Requirement already satisfied: requests in /usr/local/lib/python3.6/dist-packages (from transformers) (2.23.0)\n",
            "Requirement already satisfied: numpy in /usr/local/lib/python3.6/dist-packages (from transformers) (1.18.5)\n",
            "Requirement already satisfied: sacremoses in /usr/local/lib/python3.6/dist-packages (from transformers) (0.0.43)\n",
            "Requirement already satisfied: packaging in /usr/local/lib/python3.6/dist-packages (from transformers) (20.4)\n",
            "Requirement already satisfied: sentencepiece!=0.1.92 in /usr/local/lib/python3.6/dist-packages (from transformers) (0.1.91)\n",
            "Requirement already satisfied: dataclasses; python_version < \"3.7\" in /usr/local/lib/python3.6/dist-packages (from transformers) (0.7)\n",
            "Requirement already satisfied: filelock in /usr/local/lib/python3.6/dist-packages (from transformers) (3.0.12)\n",
            "Requirement already satisfied: tqdm>=4.27 in /usr/local/lib/python3.6/dist-packages (from transformers) (4.41.1)\n",
            "Requirement already satisfied: certifi>=2017.4.17 in /usr/local/lib/python3.6/dist-packages (from requests->transformers) (2020.6.20)\n",
            "Requirement already satisfied: idna<3,>=2.5 in /usr/local/lib/python3.6/dist-packages (from requests->transformers) (2.10)\n",
            "Requirement already satisfied: chardet<4,>=3.0.2 in /usr/local/lib/python3.6/dist-packages (from requests->transformers) (3.0.4)\n",
            "Requirement already satisfied: urllib3!=1.25.0,!=1.25.1,<1.26,>=1.21.1 in /usr/local/lib/python3.6/dist-packages (from requests->transformers) (1.24.3)\n",
            "Requirement already satisfied: click in /usr/local/lib/python3.6/dist-packages (from sacremoses->transformers) (7.1.2)\n",
            "Requirement already satisfied: six in /usr/local/lib/python3.6/dist-packages (from sacremoses->transformers) (1.15.0)\n",
            "Requirement already satisfied: joblib in /usr/local/lib/python3.6/dist-packages (from sacremoses->transformers) (0.16.0)\n",
            "Requirement already satisfied: pyparsing>=2.0.2 in /usr/local/lib/python3.6/dist-packages (from packaging->transformers) (2.4.7)\n"
          ],
          "name": "stdout"
        }
      ]
    },
    {
      "cell_type": "markdown",
      "metadata": {
        "id": "ihC2XC8lVLQX",
        "colab_type": "text"
      },
      "source": [
        "#Cool  Imports"
      ]
    },
    {
      "cell_type": "code",
      "metadata": {
        "id": "Y6xwfLeiVHpu",
        "colab_type": "code",
        "colab": {}
      },
      "source": [
        "import nltk\n",
        "import pandas as pd\n",
        "from textblob import TextBlob\n",
        "from vaderSentiment.vaderSentiment import SentimentIntensityAnalyzer\n",
        "from googletrans import Translator\n",
        "from transformers import pipeline\n",
        "import IPython"
      ],
      "execution_count": null,
      "outputs": []
    },
    {
      "cell_type": "markdown",
      "metadata": {
        "id": "4WoXOYnGZxkR",
        "colab_type": "text"
      },
      "source": [
        "#Vader"
      ]
    },
    {
      "cell_type": "code",
      "metadata": {
        "id": "2MaSauUBVFL7",
        "colab_type": "code",
        "colab": {}
      },
      "source": [
        "analyser = SentimentIntensityAnalyzer()\n",
        "def sentiment_scores(text):\n",
        "    vadersenti = analyser.polarity_scores(text)\n",
        "    return pd.Series([vadersenti['pos'], vadersenti['neg'], vadersenti['neu'], vadersenti['compound']])"
      ],
      "execution_count": null,
      "outputs": []
    },
    {
      "cell_type": "markdown",
      "metadata": {
        "id": "lbKVAQQOZ0BS",
        "colab_type": "text"
      },
      "source": [
        "#Textblob"
      ]
    },
    {
      "cell_type": "code",
      "metadata": {
        "id": "CQFF4M2FY1jt",
        "colab_type": "code",
        "colab": {}
      },
      "source": [
        "def textblob(text):\n",
        "  sentence = text.split('।')\n",
        "  en_sent = translator.translate(text).text\n",
        "  en_split = en_sent.split('.')\n",
        "\n",
        "\n",
        "  for i, val in enumerate(sentence):\n",
        "      token = nltk.word_tokenize(val)\n",
        "      \n",
        "\n",
        "  for i, val in enumerate(en_split):\n",
        "      tb = TextBlob(val)\n",
        "      sentiment = tb.sentiment.polarity\n",
        "      return sentiment"
      ],
      "execution_count": null,
      "outputs": []
    },
    {
      "cell_type": "code",
      "metadata": {
        "id": "NyR1n_O1Hbft",
        "colab_type": "code",
        "colab": {
          "base_uri": "https://localhost:8080/",
          "height": 167
        },
        "outputId": "22e46701-8825-4b36-d9b1-d81fb3bf5f79"
      },
      "source": [
        "translator = Translator()\n",
        "nltk.download('punkt')\n",
        "\n",
        "text = input(\"Enter text: \")\n",
        "\n",
        "pos=neg=neu=0\n",
        "lang = translator.detect(text)\n",
        "confidence = lang.confidence\n",
        "print(confidence)\n",
        "langdetect = lang.lang\n",
        "print(langdetect)\n",
        "if (langdetect == 'en'):\n",
        "  print(\"english\")\n",
        "  #text = \"কি খারাপ দিন!\"\n",
        "  res = sentiment_scores(text)\n",
        "  if(res[3] >= 0.1):\n",
        "    pos+=1\n",
        "  elif (res[3] <= -0.1):\n",
        "    neg+=1\n",
        "  else:\n",
        "    neu+=1\n",
        "  \n",
        "\n",
        "  sentiment = textblob(text)\n",
        "  if (sentiment > 0):\n",
        "          pos+=1\n",
        "  elif (sentiment < 0):\n",
        "      neg+=1\n",
        "  else:\n",
        "      neu+=1\n",
        "\n",
        " \n",
        "  classify = pipeline('sentiment-analysis')\n",
        "  pred = classify(text)\n",
        "  if (pred[0]['label'] == 'NEGATIVE'):\n",
        "    neg+=1\n",
        "  elif (pred[0]['label'] == 'POSITIVE'):\n",
        "    pos+=1\n",
        "\n",
        "      \n",
        "\n",
        "elif (langdetect == 'bn'):\n",
        "  print(\"Bangla\")\n",
        "  b2e = translator.translate(text, dest='en')\n",
        "  print(\">>>>>>>>>>>>>>>>>>TRANSLATED = \",b2e.text)\n",
        "  \n",
        "  #\"\"\"\"\"\"\"\"\"\"\"\"\"\"\"\"\"\"\"\"\"\"\"\"\"\"\"\"\"\"\"\"\"\"\"\"\"\"\"Translated\"\"\"\"\"\"\"\"\"\"\"\"\"\"\"\"\"\"\"\"\"\"\"\"\"\"\"\"\"\"\"\"\"\"\"\"\"\"\"\"\"'\n",
        "  classify = pipeline('sentiment-analysis')\n",
        "  pred = classify(b2e.text)\n",
        "\n",
        "  if (pred[0]['label'] == 'NEGATIVE'):\n",
        "    neg+=1\n",
        "  elif (pred[0]['label'] == 'POSITIVE'):\n",
        "    pos+=1\n",
        "  \n",
        "  #\"\"\"\"\"\"\"\"\"\"\"\"\"\"\"\"\"\"\"\"\"\"\"\"\"\"\"\"\"\"\"\"\"\"\"\"\"\"\"Vader On Translated\"\"\"\"\"\"\"\"\"\"\"\"\"\"\"\"\"\"\"\"\"\"\"\"\"\"\"\"\"\"\"\"\"\"\"\"\"\"\"\"\"'\n",
        "\n",
        "\n",
        "  res = sentiment_scores(b2e.text)\n",
        "  if (res[3] >= 0.1):\n",
        "    pos+=1\n",
        "  elif (res[3] <= -0.1):\n",
        "    neg+=1\n",
        "  else:\n",
        "    neu+=1\n",
        " \n",
        "\n",
        "  #\"\"\"\"\"\"\"\"\"\"\"\"\"\"\"\"\"\"\"\"\"\"\"\"\"\"\"\"\"\"\"\"\"\"\"\"\"\"\"BANGLA\"\"\"\"\"\"\"\"\"\"\"\"\"\"\"\"\"\"\"\"\"\"\"\"\"\"\"\"\"\"\"\"\"\"\"\"\"\"\"\"\"'\n",
        "  classify = pipeline('sentiment-analysis')\n",
        "  pred = classify(text)\n",
        "  if (pred[0]['label'] == 'NEGATIVE'):\n",
        "    neg+=1\n",
        "  elif (pred[0]['label'] == 'POSITIVE'):\n",
        "    pos+=1\n",
        "\n",
        "  \n",
        "  #\"\"\"\"\"\"\"\"\"\"\"\"\"\"\"\"\"\"\"\"\"\"\"\"\"\"\"\"\"\"\"\"\"\"\"\"\"\"\"TextBlob  On Bangla\"\"\"\"\"\"\"\"\"\"\"\"\"\"\"\"\"\"\"\"\"\"\"\"\"\"\"\"\"\"\"\"\"\"\"\"\"\"\"\"\"'\n",
        "  sentiment = textblob(text)\n",
        "  if (sentiment > 0):\n",
        "    pos+=1\n",
        "  elif (sentiment < 0):\n",
        "    neg+=1\n",
        "  else:\n",
        "    neu+=1\n",
        " \n",
        "\n",
        "else:\n",
        "  print(\"Broken sentence?\")\n",
        "  #\"\"\"\"\"\"\"\"\"\"\"\"\"\"\"\"\"\"\"\"\"\"\"\"\"\"\"\"\"\"\"\"\"\"\"\"\"\"\"TextBlob  On Broken\"\"\"\"\"\"\"\"\"\"\"\"\"\"\"\"\"\"\"\"\"\"\"\"\"\"\"\"\"\"\"\"\"\"\"\"\"\"\"\"\"'\n",
        "  sentiment = textblob(text)\n",
        "  if (sentiment > 0):\n",
        "    pos+=1\n",
        "  elif (sentiment < 0):\n",
        "    neg+=1\n",
        "  else:\n",
        "    neu+=1\n",
        "\n",
        "\n",
        "  classify = pipeline('sentiment-analysis')\n",
        "  pred = classify(text)\n",
        "  if (pred[0]['label'] == 'NEGATIVE'):\n",
        "    neg+=1\n",
        "  elif (pred[0]['label'] == 'POSITIVE'):\n",
        "    pos+=1\n",
        "  \n",
        "\n",
        "print(pos,neg,neu)\n",
        "if (pos+neu >= 2):\n",
        "  print(\"Positive Sentiment!!!!\")\n",
        "else:\n",
        "  print(\"Negative Sentiment!!!!\")"
      ],
      "execution_count": null,
      "outputs": [
        {
          "output_type": "stream",
          "text": [
            "[nltk_data] Downloading package punkt to /root/nltk_data...\n",
            "[nltk_data]   Package punkt is already up-to-date!\n",
            "Enter text: কি খারাপ দিন!\n",
            "1.0\n",
            "bn\n",
            "Bangla\n",
            "TRANSLATED =  What a bad day!\n",
            "1 3 0\n",
            "Negative Sentiment!!!!\n"
          ],
          "name": "stdout"
        }
      ]
    },
    {
      "cell_type": "markdown",
      "metadata": {
        "id": "H764lFx80dX1",
        "colab_type": "text"
      },
      "source": [
        "References :\n",
        "1. https://www.geeksforgeeks.org/python-sentiment-analysis-using-vader/\n",
        "2. https://www.analyticsvidhya.com/blog/2018/02/natural-language-processing-for-beginners-using-textblob/\n",
        "3. https://huggingface.co/transformers/main_classes/pipelines.html\n"
      ]
    },
    {
      "cell_type": "code",
      "metadata": {
        "id": "fzsqYr1mQzJc",
        "colab_type": "code",
        "colab": {}
      },
      "source": [
        ""
      ],
      "execution_count": null,
      "outputs": []
    }
  ]
}